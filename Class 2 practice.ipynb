{
 "cells": [
  {
   "cell_type": "markdown",
   "id": "b580fc46",
   "metadata": {},
   "source": [
    "# Nested Lists:"
   ]
  },
  {
   "cell_type": "code",
   "execution_count": 1,
   "id": "638d45c4",
   "metadata": {},
   "outputs": [
    {
     "name": "stdout",
     "output_type": "stream",
     "text": [
      "DS\n"
     ]
    }
   ],
   "source": [
    "data = [\n",
    "    [1,\"Abdul Sami\",\"AI\"],\n",
    "    [2,\"Hamza Ansari\",\"DS\"],\n",
    "    [3,\"M Farhan\",'FD']\n",
    "]\n",
    "print(data[1][2])"
   ]
  },
  {
   "cell_type": "code",
   "execution_count": 2,
   "id": "21127790",
   "metadata": {},
   "outputs": [
    {
     "name": "stdout",
     "output_type": "stream",
     "text": [
      "[[1, 'Abdul Sami', 'Artificial Intelligence'], [2, 'Hamza Ansari', 'Data science'], [3, 'M Farhan', 'Flutter Developer']]\n"
     ]
    }
   ],
   "source": [
    "data[0][2]=\"Artificial Intelligence\"\n",
    "data[1][2]=\"Data science\"\n",
    "data[2][2]=\"Flutter Developer\"\n",
    "print(data)"
   ]
  },
  {
   "cell_type": "markdown",
   "id": "a86b24a9",
   "metadata": {},
   "source": [
    "# Lists Methods:"
   ]
  },
  {
   "cell_type": "code",
   "execution_count": 3,
   "id": "2e4b8105",
   "metadata": {},
   "outputs": [
    {
     "name": "stdout",
     "output_type": "stream",
     "text": [
      "['sami', 'haseeb', 'sharjeel', 'sultan']\n"
     ]
    }
   ],
   "source": [
    "names = [\"sami\",\"haseeb\",\"sharjeel\"]\n",
    "names.append(\"sultan\")\n",
    "print(names)"
   ]
  },
  {
   "cell_type": "code",
   "execution_count": 4,
   "id": "e41e93aa",
   "metadata": {},
   "outputs": [
    {
     "name": "stdout",
     "output_type": "stream",
     "text": [
      "[]\n"
     ]
    }
   ],
   "source": [
    "names = [\"sami\",\"haseeb\",\"sharjeel\"]\n",
    "names.clear()\n",
    "print(names)"
   ]
  },
  {
   "cell_type": "code",
   "execution_count": 5,
   "id": "94b1de24",
   "metadata": {},
   "outputs": [
    {
     "name": "stdout",
     "output_type": "stream",
     "text": [
      "['sami', 'haseeb', 'sharjeel']\n"
     ]
    }
   ],
   "source": [
    "names = [\"sami\",\"haseeb\",\"sharjeel\"]\n",
    "x = names.copy()\n",
    "print(x)"
   ]
  },
  {
   "cell_type": "code",
   "execution_count": 6,
   "id": "55ee0152",
   "metadata": {},
   "outputs": [
    {
     "name": "stdout",
     "output_type": "stream",
     "text": [
      "1\n"
     ]
    }
   ],
   "source": [
    "# The count() method returns the number of elements with the specified value.\n",
    "names = [\"sami\",\"haseeb\",\"sharjeel\"]\n",
    "print(names.count(\"haseeb\"))\n"
   ]
  },
  {
   "cell_type": "code",
   "execution_count": 9,
   "id": "9f8465a3",
   "metadata": {},
   "outputs": [
    {
     "name": "stdout",
     "output_type": "stream",
     "text": [
      "['sami', 'haseeb', 'sultan', 'sharjeel']\n"
     ]
    }
   ],
   "source": [
    "names1 = [\"sami\",\"haseeb\"]\n",
    "names2 = [\"sultan\",\"sharjeel\"]\n",
    "names1.extend(names2)\n",
    "print(names1)"
   ]
  },
  {
   "cell_type": "code",
   "execution_count": 10,
   "id": "88854548",
   "metadata": {},
   "outputs": [
    {
     "data": {
      "text/plain": [
       "1"
      ]
     },
     "execution_count": 10,
     "metadata": {},
     "output_type": "execute_result"
    }
   ],
   "source": [
    "names = [\"sami\",\"haseeb\",\"sharjeel\"]\n",
    "names.index(\"haseeb\")"
   ]
  },
  {
   "cell_type": "code",
   "execution_count": 12,
   "id": "c981834e",
   "metadata": {},
   "outputs": [
    {
     "name": "stdout",
     "output_type": "stream",
     "text": [
      "['sami', 'haseeb', 'sharjeel', 'sultan']\n"
     ]
    }
   ],
   "source": [
    "names = [\"sami\",\"haseeb\",\"sharjeel\"]\n",
    "names.insert(3,\"sultan\")\n",
    "print(names)"
   ]
  },
  {
   "cell_type": "code",
   "execution_count": 14,
   "id": "c8105c6a",
   "metadata": {},
   "outputs": [
    {
     "name": "stdout",
     "output_type": "stream",
     "text": [
      "['haseeb', 'sharjeel']\n"
     ]
    }
   ],
   "source": [
    "names = [\"sami\",\"haseeb\",\"sharjeel\"]\n",
    "names.pop(0) # index base\n",
    "print(names)"
   ]
  },
  {
   "cell_type": "code",
   "execution_count": 15,
   "id": "fae1e4fa",
   "metadata": {},
   "outputs": [
    {
     "name": "stdout",
     "output_type": "stream",
     "text": [
      "['haseeb', 'sharjeel']\n"
     ]
    }
   ],
   "source": [
    "names = [\"sami\",\"haseeb\",\"sharjeel\"]\n",
    "names.remove(\"sami\")# value base\n",
    "print(names)"
   ]
  },
  {
   "cell_type": "code",
   "execution_count": 16,
   "id": "90ac3853",
   "metadata": {},
   "outputs": [
    {
     "name": "stdout",
     "output_type": "stream",
     "text": [
      "['sharjeel', 'haseeb', 'sami']\n"
     ]
    }
   ],
   "source": [
    "names = [\"sami\",\"haseeb\",\"sharjeel\"]\n",
    "names.reverse()\n",
    "print(names)"
   ]
  },
  {
   "cell_type": "code",
   "execution_count": 18,
   "id": "0f9d53c4",
   "metadata": {},
   "outputs": [
    {
     "name": "stdout",
     "output_type": "stream",
     "text": [
      "['haseeb', 'sami', 'sharjeel']\n"
     ]
    }
   ],
   "source": [
    "names = [\"sami\",\"haseeb\",\"sharjeel\"]\n",
    "names.sort()\n",
    "print(names)"
   ]
  },
  {
   "cell_type": "markdown",
   "id": "d40fa2f2",
   "metadata": {},
   "source": [
    "# Tuple:"
   ]
  },
  {
   "cell_type": "code",
   "execution_count": 19,
   "id": "65543a2b",
   "metadata": {},
   "outputs": [
    {
     "name": "stdout",
     "output_type": "stream",
     "text": [
      "('sami', 'noman', 'bilal')\n"
     ]
    }
   ],
   "source": [
    "names = (\"sami\",\"noman\",\"bilal\")\n",
    "print(names)"
   ]
  },
  {
   "cell_type": "code",
   "execution_count": 20,
   "id": "dd79b91a",
   "metadata": {},
   "outputs": [
    {
     "name": "stdout",
     "output_type": "stream",
     "text": [
      "bilal\n",
      "('sami', 'noman')\n"
     ]
    }
   ],
   "source": [
    "print(names[-1])\n",
    "print(names[:2])"
   ]
  },
  {
   "cell_type": "code",
   "execution_count": 22,
   "id": "fb061c1b",
   "metadata": {},
   "outputs": [
    {
     "name": "stdout",
     "output_type": "stream",
     "text": [
      "3\n"
     ]
    }
   ],
   "source": [
    "age = (12,21,12,24,34,12,32)\n",
    "print(age.count(12))"
   ]
  },
  {
   "cell_type": "code",
   "execution_count": 23,
   "id": "ea7e948a",
   "metadata": {},
   "outputs": [
    {
     "data": {
      "text/plain": [
       "0"
      ]
     },
     "execution_count": 23,
     "metadata": {},
     "output_type": "execute_result"
    }
   ],
   "source": [
    "age = (12,21,12,24,34,12,32)\n",
    "age.index(12)"
   ]
  },
  {
   "cell_type": "markdown",
   "id": "6f65a887",
   "metadata": {},
   "source": [
    "# Set:\n"
   ]
  },
  {
   "cell_type": "code",
   "execution_count": 24,
   "id": "ef7eede6",
   "metadata": {},
   "outputs": [
    {
     "name": "stdout",
     "output_type": "stream",
     "text": [
      "{'hasib', 'sami', 'noman', 'farhan'}\n"
     ]
    }
   ],
   "source": [
    "names = {'sami','hasib','noman','farhan'}\n",
    "print(names)"
   ]
  },
  {
   "cell_type": "markdown",
   "id": "9f651a55",
   "metadata": {},
   "source": [
    "```A set is a collection which is unordered and unindexed, and doesnt allow duplicates. In Python, sets are written with curly    brackets.\n",
    "    You cannot access items in a set by referring to an index\n",
    "    Sets are mutable\n",
    "    They are useful for checking for duplicates```"
   ]
  },
  {
   "cell_type": "code",
   "execution_count": 26,
   "id": "40de5c68",
   "metadata": {},
   "outputs": [
    {
     "name": "stdout",
     "output_type": "stream",
     "text": [
      "{'hasib', 'sami', 'noman', 'farhan'}\n"
     ]
    }
   ],
   "source": [
    "names = {'sami','hasib','noman','farhan','sami'}\n",
    "print(names)"
   ]
  },
  {
   "cell_type": "code",
   "execution_count": 27,
   "id": "6bacb12d",
   "metadata": {},
   "outputs": [
    {
     "name": "stdout",
     "output_type": "stream",
     "text": [
      "{'noman', 'ali', 'hasib', 'sami', 'farhan'}\n"
     ]
    }
   ],
   "source": [
    "names.add('ali')\n",
    "print(names)"
   ]
  },
  {
   "cell_type": "markdown",
   "id": "7d50bfa7",
   "metadata": {},
   "source": [
    "# Dictionary:"
   ]
  },
  {
   "cell_type": "code",
   "execution_count": 30,
   "id": "e13780d8",
   "metadata": {},
   "outputs": [
    {
     "name": "stdout",
     "output_type": "stream",
     "text": [
      "{'name': 'sami', 'age': '22', 'course': 'AI & DS'}\n"
     ]
    }
   ],
   "source": [
    "data = {\n",
    "#   key     value\n",
    "   'name': 'sami' , # item 1\n",
    "   'age' : '22'    ,  # item 2\n",
    "   'course' : 'AI & DS'  # item 3\n",
    "}\n",
    "print(data)"
   ]
  },
  {
   "cell_type": "code",
   "execution_count": 31,
   "id": "67f5e29e",
   "metadata": {},
   "outputs": [
    {
     "data": {
      "text/plain": [
       "'sami'"
      ]
     },
     "execution_count": 31,
     "metadata": {},
     "output_type": "execute_result"
    }
   ],
   "source": [
    "data['name']"
   ]
  },
  {
   "cell_type": "code",
   "execution_count": 32,
   "id": "6db7d9fd",
   "metadata": {},
   "outputs": [
    {
     "data": {
      "text/plain": [
       "dict_keys(['name', 'age', 'course'])"
      ]
     },
     "execution_count": 32,
     "metadata": {},
     "output_type": "execute_result"
    }
   ],
   "source": [
    "data.keys()"
   ]
  },
  {
   "cell_type": "code",
   "execution_count": 33,
   "id": "84698587",
   "metadata": {},
   "outputs": [
    {
     "data": {
      "text/plain": [
       "dict_values(['sami', '22', 'AI & DS'])"
      ]
     },
     "execution_count": 33,
     "metadata": {},
     "output_type": "execute_result"
    }
   ],
   "source": [
    "data.values()"
   ]
  },
  {
   "cell_type": "code",
   "execution_count": 34,
   "id": "7b0f7da9",
   "metadata": {},
   "outputs": [
    {
     "data": {
      "text/plain": [
       "dict_items([('name', 'sami'), ('age', '22'), ('course', 'AI & DS')])"
      ]
     },
     "execution_count": 34,
     "metadata": {},
     "output_type": "execute_result"
    }
   ],
   "source": [
    "data.items()"
   ]
  },
  {
   "cell_type": "code",
   "execution_count": 35,
   "id": "30a1f0b2",
   "metadata": {},
   "outputs": [
    {
     "name": "stdout",
     "output_type": "stream",
     "text": [
      "{'name': 'sami', 'age': '22', 'course': 'AI & DS'}\n"
     ]
    }
   ],
   "source": [
    "data1= data.copy()\n",
    "print(data1)"
   ]
  },
  {
   "cell_type": "code",
   "execution_count": 37,
   "id": "d3de028f",
   "metadata": {},
   "outputs": [
    {
     "name": "stdout",
     "output_type": "stream",
     "text": [
      "{'name': 'hamza', 'age': '22', 'course': 'AI & DS'}\n",
      "{'name': 'sami', 'age': '22', 'course': 'AI & DS'}\n"
     ]
    }
   ],
   "source": [
    "data1['name']='hamza'\n",
    "print(data1)\n",
    "print(data)"
   ]
  },
  {
   "cell_type": "code",
   "execution_count": 39,
   "id": "854bb723",
   "metadata": {},
   "outputs": [
    {
     "data": {
      "text/plain": [
       "'hamza'"
      ]
     },
     "execution_count": 39,
     "metadata": {},
     "output_type": "execute_result"
    }
   ],
   "source": [
    "data1.get('name')"
   ]
  },
  {
   "cell_type": "code",
   "execution_count": 40,
   "id": "5a96dea5",
   "metadata": {},
   "outputs": [
    {
     "data": {
      "text/plain": [
       "{'id': None,\n",
       " 'name': None,\n",
       " 'fname': None,\n",
       " 'course': None,\n",
       " 'timing': None,\n",
       " 'address': None}"
      ]
     },
     "execution_count": 40,
     "metadata": {},
     "output_type": "execute_result"
    }
   ],
   "source": [
    "dict.fromkeys(['id','name','fname','course','timing','address']) # create dict with list"
   ]
  },
  {
   "cell_type": "code",
   "execution_count": 43,
   "id": "d63062a7",
   "metadata": {},
   "outputs": [
    {
     "name": "stdout",
     "output_type": "stream",
     "text": [
      "{'id': 1, 'name': 'qasim', 'timing': '9 pm to 12 am'}\n",
      "{'id': 1, 'name': 'qasim', 'timing': '9 pm to 12 am', 'course': 'AI'}\n"
     ]
    }
   ],
   "source": [
    "data = {}\n",
    "data['id'] = 1\n",
    "data['name'] = 'qasim'\n",
    "data['timing'] = '9 pm to 12 am'\n",
    "print(data)\n",
    "data.setdefault('course','AI')\n",
    "print(data)"
   ]
  },
  {
   "cell_type": "code",
   "execution_count": 44,
   "id": "a1cab559",
   "metadata": {},
   "outputs": [
    {
     "name": "stdout",
     "output_type": "stream",
     "text": [
      "1\n",
      "{'name': 'qasim', 'timing': '9 pm to 12 am', 'course': 'AI'}\n"
     ]
    }
   ],
   "source": [
    "print(data.pop('id'))\n",
    "print(data)"
   ]
  },
  {
   "cell_type": "code",
   "execution_count": 45,
   "id": "f66d75a7",
   "metadata": {},
   "outputs": [
    {
     "name": "stdout",
     "output_type": "stream",
     "text": [
      "('course', 'AI')\n",
      "{'name': 'qasim', 'timing': '9 pm to 12 am'}\n"
     ]
    }
   ],
   "source": [
    "print(data.popitem())\n",
    "print(data)"
   ]
  },
  {
   "cell_type": "code",
   "execution_count": 46,
   "id": "209c8b74",
   "metadata": {},
   "outputs": [
    {
     "data": {
      "text/plain": [
       "{'name': 'Zonaib', 'timing': '9 pm to 12 am', 'id': 20}"
      ]
     },
     "execution_count": 46,
     "metadata": {},
     "output_type": "execute_result"
    }
   ],
   "source": [
    "data.update({'id':20,\"name\":'Zonaib'})\n",
    "data"
   ]
  },
  {
   "cell_type": "code",
   "execution_count": null,
   "id": "228df0bf",
   "metadata": {},
   "outputs": [],
   "source": []
  }
 ],
 "metadata": {
  "kernelspec": {
   "display_name": "Python 3 (ipykernel)",
   "language": "python",
   "name": "python3"
  },
  "language_info": {
   "codemirror_mode": {
    "name": "ipython",
    "version": 3
   },
   "file_extension": ".py",
   "mimetype": "text/x-python",
   "name": "python",
   "nbconvert_exporter": "python",
   "pygments_lexer": "ipython3",
   "version": "3.9.12"
  }
 },
 "nbformat": 4,
 "nbformat_minor": 5
}
