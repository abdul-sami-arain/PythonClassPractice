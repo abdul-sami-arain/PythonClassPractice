{
 "cells": [
  {
   "cell_type": "code",
   "execution_count": 1,
   "id": "de4b6023",
   "metadata": {},
   "outputs": [
    {
     "name": "stdout",
     "output_type": "stream",
     "text": [
      "<class 'str'>\n"
     ]
    }
   ],
   "source": [
    "name = \"Abdul Sami\"\n",
    "print(type(name))"
   ]
  },
  {
   "cell_type": "code",
   "execution_count": 7,
   "id": "8731d486",
   "metadata": {},
   "outputs": [
    {
     "data": {
      "text/plain": [
       "['__add__',\n",
       " '__class__',\n",
       " '__contains__',\n",
       " '__delattr__',\n",
       " '__dir__',\n",
       " '__doc__',\n",
       " '__eq__',\n",
       " '__format__',\n",
       " '__ge__',\n",
       " '__getattribute__',\n",
       " '__getitem__',\n",
       " '__getnewargs__',\n",
       " '__gt__',\n",
       " '__hash__',\n",
       " '__init__',\n",
       " '__init_subclass__',\n",
       " '__iter__',\n",
       " '__le__',\n",
       " '__len__',\n",
       " '__lt__',\n",
       " '__mod__',\n",
       " '__mul__',\n",
       " '__ne__',\n",
       " '__new__',\n",
       " '__reduce__',\n",
       " '__reduce_ex__',\n",
       " '__repr__',\n",
       " '__rmod__',\n",
       " '__rmul__',\n",
       " '__setattr__',\n",
       " '__sizeof__',\n",
       " '__str__',\n",
       " '__subclasshook__',\n",
       " 'capitalize',\n",
       " 'casefold',\n",
       " 'center',\n",
       " 'count',\n",
       " 'encode',\n",
       " 'endswith',\n",
       " 'expandtabs',\n",
       " 'find',\n",
       " 'format',\n",
       " 'format_map',\n",
       " 'index',\n",
       " 'isalnum',\n",
       " 'isalpha',\n",
       " 'isascii',\n",
       " 'isdecimal',\n",
       " 'isdigit',\n",
       " 'isidentifier',\n",
       " 'islower',\n",
       " 'isnumeric',\n",
       " 'isprintable',\n",
       " 'isspace',\n",
       " 'istitle',\n",
       " 'isupper',\n",
       " 'join',\n",
       " 'ljust',\n",
       " 'lower',\n",
       " 'lstrip',\n",
       " 'maketrans',\n",
       " 'partition',\n",
       " 'removeprefix',\n",
       " 'removesuffix',\n",
       " 'replace',\n",
       " 'rfind',\n",
       " 'rindex',\n",
       " 'rjust',\n",
       " 'rpartition',\n",
       " 'rsplit',\n",
       " 'rstrip',\n",
       " 'split',\n",
       " 'splitlines',\n",
       " 'startswith',\n",
       " 'strip',\n",
       " 'swapcase',\n",
       " 'title',\n",
       " 'translate',\n",
       " 'upper',\n",
       " 'zfill']"
      ]
     },
     "execution_count": 7,
     "metadata": {},
     "output_type": "execute_result"
    }
   ],
   "source": [
    "#The dir() function returns all properties and methods of the specified object, without the values.\n",
    "dir(name)"
   ]
  },
  {
   "cell_type": "code",
   "execution_count": 8,
   "id": "b8db26fb",
   "metadata": {},
   "outputs": [
    {
     "name": "stdout",
     "output_type": "stream",
     "text": [
      "Abdul sami\n"
     ]
    }
   ],
   "source": [
    "#Only captalize the first alphabet of string\n",
    "name = \"AbdUl sAmI\"\n",
    "print(name.capitalize())"
   ]
  },
  {
   "cell_type": "code",
   "execution_count": 10,
   "id": "a7e0e64f",
   "metadata": {},
   "outputs": [
    {
     "name": "stdout",
     "output_type": "stream",
     "text": [
      "abdul sami\n"
     ]
    }
   ],
   "source": [
    "#convert all the characters in lower case\n",
    "name = \"abdUl sAmI\"\n",
    "print(name.casefold())"
   ]
  },
  {
   "cell_type": "code",
   "execution_count": 11,
   "id": "5671bbfd",
   "metadata": {},
   "outputs": [
    {
     "name": "stdout",
     "output_type": "stream",
     "text": [
      "                    Abdul Sami                    \n"
     ]
    }
   ],
   "source": [
    "name = \"Abdul Sami\"\n",
    "print(name.center(50))"
   ]
  },
  {
   "cell_type": "code",
   "execution_count": 15,
   "id": "757b2a39",
   "metadata": {},
   "outputs": [
    {
     "name": "stdout",
     "output_type": "stream",
     "text": [
      "1\n"
     ]
    }
   ],
   "source": [
    "name = \"Abdul Sami\"\n",
    "print(name.count('a'))"
   ]
  },
  {
   "cell_type": "code",
   "execution_count": 16,
   "id": "79edaf16",
   "metadata": {},
   "outputs": [
    {
     "name": "stdout",
     "output_type": "stream",
     "text": [
      "2\n"
     ]
    }
   ],
   "source": [
    "name = \"Abdul Sami\"\n",
    "print(name.casefold().count('a'))"
   ]
  },
  {
   "cell_type": "code",
   "execution_count": 19,
   "id": "5568df93",
   "metadata": {},
   "outputs": [
    {
     "name": "stdout",
     "output_type": "stream",
     "text": [
      "b'Abdul Sami'\n"
     ]
    }
   ],
   "source": [
    "name = \"Abdul Sami\"\n",
    "print(name.encode())"
   ]
  },
  {
   "cell_type": "code",
   "execution_count": 20,
   "id": "8cd8ad4b",
   "metadata": {},
   "outputs": [
    {
     "name": "stdout",
     "output_type": "stream",
     "text": [
      "b'Abdul Sami'\n"
     ]
    }
   ],
   "source": [
    "name = \"Abdul Sami\"\n",
    "print(name.encode('utf-8'))"
   ]
  },
  {
   "cell_type": "code",
   "execution_count": 21,
   "id": "9a55f6c0",
   "metadata": {},
   "outputs": [
    {
     "name": "stdout",
     "output_type": "stream",
     "text": [
      "True\n"
     ]
    }
   ],
   "source": [
    "name = \"Abdul Sami\"\n",
    "print(name.endswith('mi'))"
   ]
  },
  {
   "cell_type": "code",
   "execution_count": 24,
   "id": "a21378d3",
   "metadata": {},
   "outputs": [
    {
     "name": "stdout",
     "output_type": "stream",
     "text": [
      "name:               Abdul Sami\n",
      " age:               22\n"
     ]
    }
   ],
   "source": [
    "name =\"name:\\tAbdul Sami\\n age:\\t22\"\n",
    "print(name.expandtabs(20))"
   ]
  },
  {
   "cell_type": "code",
   "execution_count": 25,
   "id": "202ef7e2",
   "metadata": {},
   "outputs": [
    {
     "name": "stdout",
     "output_type": "stream",
     "text": [
      "6\n"
     ]
    }
   ],
   "source": [
    "name =\"name:\\tAbdul Sami\\n age:\\t22\"\n",
    "print(name.find('Abdul'))"
   ]
  },
  {
   "cell_type": "code",
   "execution_count": 27,
   "id": "d9086f33",
   "metadata": {},
   "outputs": [
    {
     "name": "stdout",
     "output_type": "stream",
     "text": [
      "28\n"
     ]
    }
   ],
   "source": [
    "name =\"name:\\tAbdul Sami\\n age:\\t22 \\t Abdul\"\n",
    "print(name.find('Abdul',12))"
   ]
  },
  {
   "cell_type": "code",
   "execution_count": 32,
   "id": "977a596b",
   "metadata": {},
   "outputs": [
    {
     "name": "stdout",
     "output_type": "stream",
     "text": [
      "28\n"
     ]
    }
   ],
   "source": [
    "name =\"name:\\tAbdul Sami\\n age:\\t22 \\t Abdul\"\n",
    "print(name.find('Abdul',name.find('Abdul')+1))"
   ]
  },
  {
   "cell_type": "code",
   "execution_count": 47,
   "id": "ac163ed8",
   "metadata": {},
   "outputs": [
    {
     "name": "stdout",
     "output_type": "stream",
     "text": [
      "name:               sami\n",
      "age:                22\n",
      "teacher:            Qasim\n"
     ]
    }
   ],
   "source": [
    "intro = 'name:\\t{}\\nage:\\t{}\\nteacher:\\t{}'.format(\"sami\",\"22\",\"Qasim\")\n",
    "print(intro.expandtabs(20))"
   ]
  },
  {
   "cell_type": "code",
   "execution_count": null,
   "id": "fd0f1ca7",
   "metadata": {},
   "outputs": [],
   "source": [
    "intro = \"name:\\t{name}\\nage:\\t{age}\\nteacher:\\t{teacher}\" .format_map(data)\n",
    "data = {\n",
    "    'name':'Abdul Sami',\n",
    "    'age':'21',\n",
    "    'teacher':'Qasim'\n",
    "}\n",
    "print(intro.expandtabs(20))"
   ]
  },
  {
   "cell_type": "code",
   "execution_count": 54,
   "id": "998ddd1f",
   "metadata": {},
   "outputs": [
    {
     "name": "stdout",
     "output_type": "stream",
     "text": [
      "6\n"
     ]
    }
   ],
   "source": [
    "name = \"Abdul Sami\"\n",
    "print(name.index('S'))"
   ]
  },
  {
   "cell_type": "code",
   "execution_count": 55,
   "id": "1beae07e",
   "metadata": {},
   "outputs": [
    {
     "name": "stdout",
     "output_type": "stream",
     "text": [
      "False\n"
     ]
    }
   ],
   "source": [
    "name = \"Abdul Sami\"\n",
    "print(name.isalnum())"
   ]
  },
  {
   "cell_type": "code",
   "execution_count": 57,
   "id": "1b33aa25",
   "metadata": {},
   "outputs": [
    {
     "name": "stdout",
     "output_type": "stream",
     "text": [
      "False\n"
     ]
    }
   ],
   "source": [
    "#The isalpha() method returns True if all the characters are alphabet letters (a-z)\n",
    "name = \"2Abdul Sami\"\n",
    "print(name.isalpha())"
   ]
  },
  {
   "cell_type": "code",
   "execution_count": 58,
   "id": "16d76492",
   "metadata": {},
   "outputs": [
    {
     "name": "stdout",
     "output_type": "stream",
     "text": [
      "True\n"
     ]
    }
   ],
   "source": [
    "name = \"Abdul Sami\"\n",
    "print(name.isascii())"
   ]
  },
  {
   "cell_type": "code",
   "execution_count": 61,
   "id": "d62e5209",
   "metadata": {},
   "outputs": [
    {
     "name": "stdout",
     "output_type": "stream",
     "text": [
      "True\n"
     ]
    }
   ],
   "source": [
    "number = \"10\"\n",
    "print(number.isdecimal())"
   ]
  },
  {
   "cell_type": "code",
   "execution_count": 62,
   "id": "c5cd312b",
   "metadata": {},
   "outputs": [
    {
     "name": "stdout",
     "output_type": "stream",
     "text": [
      "True\n"
     ]
    }
   ],
   "source": [
    "number = \"10\"\n",
    "print(number.isdigit())"
   ]
  },
  {
   "cell_type": "code",
   "execution_count": 63,
   "id": "39a1067d",
   "metadata": {},
   "outputs": [
    {
     "name": "stdout",
     "output_type": "stream",
     "text": [
      "False\n"
     ]
    }
   ],
   "source": [
    "number = \"10.0\"\n",
    "print(number.isdecimal())"
   ]
  },
  {
   "cell_type": "code",
   "execution_count": 69,
   "id": "20f776dc",
   "metadata": {},
   "outputs": [
    {
     "name": "stdout",
     "output_type": "stream",
     "text": [
      "True\n"
     ]
    }
   ],
   "source": [
    "name = \"pak12\"\n",
    "print(name.isidentifier())"
   ]
  },
  {
   "cell_type": "code",
   "execution_count": 70,
   "id": "d56691ec",
   "metadata": {},
   "outputs": [
    {
     "name": "stdout",
     "output_type": "stream",
     "text": [
      "False\n"
     ]
    }
   ],
   "source": [
    "name = \"AbDul SamI\"\n",
    "print(name.islower())"
   ]
  },
  {
   "cell_type": "code",
   "execution_count": 89,
   "id": "e718cf6b",
   "metadata": {},
   "outputs": [
    {
     "name": "stdout",
     "output_type": "stream",
     "text": [
      "Abdul Sami\n"
     ]
    }
   ],
   "source": [
    "name = \"abdul sami\"\n",
    "print(name.title())"
   ]
  },
  {
   "cell_type": "markdown",
   "id": "6765f008",
   "metadata": {},
   "source": [
    "# Lists (Data Type):"
   ]
  },
  {
   "cell_type": "code",
   "execution_count": 90,
   "id": "2740ada0",
   "metadata": {},
   "outputs": [
    {
     "name": "stdout",
     "output_type": "stream",
     "text": [
      "<class 'list'>\n"
     ]
    }
   ],
   "source": [
    "#             0              1                2            3\n",
    "names = ['Abdul Sami','Muhammad Farhan','Bilal Akram','Noman Ali']\n",
    "#           -4               -3               -2          -1\n",
    "print(type(names))"
   ]
  },
  {
   "cell_type": "code",
   "execution_count": 73,
   "id": "b548110c",
   "metadata": {},
   "outputs": [
    {
     "name": "stdout",
     "output_type": "stream",
     "text": [
      "Noman Ali\n",
      "Noman Ali\n"
     ]
    }
   ],
   "source": [
    "print(names[3])\n",
    "print(names[-1])"
   ]
  },
  {
   "cell_type": "code",
   "execution_count": 92,
   "id": "ec6c38c7",
   "metadata": {},
   "outputs": [
    {
     "name": "stdout",
     "output_type": "stream",
     "text": [
      "<class 'int'>\n"
     ]
    }
   ],
   "source": [
    "names = ['Abdul Sami','Muhammad Farhan','Bilal Akram','Noman Ali',100,200,300,400]\n",
    "print(type(names[-1]))"
   ]
  },
  {
   "cell_type": "code",
   "execution_count": 91,
   "id": "38980dca",
   "metadata": {},
   "outputs": [
    {
     "name": "stdout",
     "output_type": "stream",
     "text": [
      "['Hamza Ansari', 'Muhammad Farhan', 'Bilal Akram', 'Noman Ali']\n"
     ]
    }
   ],
   "source": [
    "# update list\n",
    "names[-4]='Hamza Ansari'\n",
    "print(names)"
   ]
  },
  {
   "cell_type": "markdown",
   "id": "ed8f9423",
   "metadata": {},
   "source": [
    "# Slicing in List:"
   ]
  },
  {
   "cell_type": "markdown",
   "id": "bcc9ef47",
   "metadata": {},
   "source": [
    "```list[start:end:step]\n",
    "defualt left to right (step=1, -1)\n",
    "star: include\n",
    "end:exlude\n",
    "step: ```"
   ]
  },
  {
   "cell_type": "code",
   "execution_count": 93,
   "id": "abf025f2",
   "metadata": {},
   "outputs": [
    {
     "data": {
      "text/plain": [
       "[400,\n",
       " 300,\n",
       " 200,\n",
       " 100,\n",
       " 'Noman Ali',\n",
       " 'Bilal Akram',\n",
       " 'Muhammad Farhan',\n",
       " 'Abdul Sami']"
      ]
     },
     "execution_count": 93,
     "metadata": {},
     "output_type": "execute_result"
    }
   ],
   "source": [
    "names\n",
    "names[0:3]\n",
    "names[0::2]\n",
    "names[-8:]\n",
    "names[::-1]"
   ]
  },
  {
   "cell_type": "code",
   "execution_count": null,
   "id": "d50414b1",
   "metadata": {},
   "outputs": [],
   "source": []
  }
 ],
 "metadata": {
  "kernelspec": {
   "display_name": "Python 3 (ipykernel)",
   "language": "python",
   "name": "python3"
  },
  "language_info": {
   "codemirror_mode": {
    "name": "ipython",
    "version": 3
   },
   "file_extension": ".py",
   "mimetype": "text/x-python",
   "name": "python",
   "nbconvert_exporter": "python",
   "pygments_lexer": "ipython3",
   "version": "3.9.12"
  }
 },
 "nbformat": 4,
 "nbformat_minor": 5
}
