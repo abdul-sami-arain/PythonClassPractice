{
 "cells": [
  {
   "cell_type": "markdown",
   "id": "02f308e5",
   "metadata": {},
   "source": [
    "# Copy Module in Python:"
   ]
  },
  {
   "cell_type": "code",
   "execution_count": 23,
   "id": "b8ec74a0",
   "metadata": {},
   "outputs": [],
   "source": [
    "import copy as cp"
   ]
  },
  {
   "cell_type": "markdown",
   "id": "0bca2c70",
   "metadata": {},
   "source": [
    "```Copy module in python is extensively used for creating copies/duplicates of existing elements or items of objects, lists, arrays etc```<br>\n",
    "```There are two types of copies in python```<br>\n",
    "- **Deep Copy**\n",
    "- **shallow Copy**"
   ]
  },
  {
   "attachments": {},
   "cell_type": "markdown",
   "id": "e3443445",
   "metadata": {},
   "source": []
  },
  {
   "cell_type": "markdown",
   "id": "7b199007",
   "metadata": {},
   "source": [
    "**Deep copy:**<br>\n",
    "-```there are two objects from deep copy original and duplicate , if there is any change in duplicate it will not be happen on original one ```<br>\n",
    "-```cp.deepcopy()```<br>\n",
    "**Shallow copy:**<br>\n",
    "-```there are two objects from shallow copy original and duplicate , if there is any change in duplicate it will also be happen on original one ```<br>\n",
    "-```cp.copy()```"
   ]
  },
  {
   "cell_type": "code",
   "execution_count": null,
   "id": "aa2945af",
   "metadata": {},
   "outputs": [],
   "source": []
  },
  {
   "cell_type": "markdown",
   "id": "d789323d",
   "metadata": {},
   "source": [
    "# deep copy:"
   ]
  },
  {
   "cell_type": "code",
   "execution_count": 24,
   "id": "5bb4a612",
   "metadata": {},
   "outputs": [
    {
     "name": "stdout",
     "output_type": "stream",
     "text": [
      "original object ----> [[1, 2, 3, 4, 5, 6, 7], [8, 9, 10, 11, 12, 13, 14], [15, 16, 17, 18, 19, 20]]\n",
      "duplicate object ----> [[1, 2, 3, 4, 5, 6, 7], [8, 9, 10, 11, 12, 13, 14], [15, 16, 17, 18, 19, 20]]\n",
      "original object memory address ----> 2657998033024\n",
      "duplicate object memory address ----> 2657997952384\n"
     ]
    }
   ],
   "source": [
    "# suppose we have a list of lists:\n",
    "original = [[1,2,3,4,5,6,7],[8,9,10,11,12,13,14],[15,16,17,18,19,20]]\n",
    "# now we create deep copy of it like this:\n",
    "duplicate = cp.deepcopy(original)\n",
    "print('original object ---->',original)\n",
    "print('duplicate object ---->',duplicate)\n",
    "print('original object memory address ---->',id(original))\n",
    "print('duplicate object memory address ---->',id(duplicate))"
   ]
  },
  {
   "cell_type": "markdown",
   "id": "23aa0392",
   "metadata": {},
   "source": [
    "### if we do any changes in original object let see its variabilty change on duplicate object:"
   ]
  },
  {
   "cell_type": "code",
   "execution_count": 25,
   "id": "0e126c50",
   "metadata": {},
   "outputs": [
    {
     "data": {
      "text/plain": [
       "[[1, 2, 3, 4, 5, 6, 8], [8, 9, 10, 11, 12, 13, 14], [15, 16, 17, 18, 19, 20]]"
      ]
     },
     "execution_count": 25,
     "metadata": {},
     "output_type": "execute_result"
    }
   ],
   "source": [
    "original[0][6]=8\n",
    "original"
   ]
  },
  {
   "cell_type": "code",
   "execution_count": 26,
   "id": "89a3bfed",
   "metadata": {},
   "outputs": [
    {
     "name": "stdout",
     "output_type": "stream",
     "text": [
      "original object ----> [[1, 2, 3, 4, 5, 6, 8], [8, 9, 10, 11, 12, 13, 14], [15, 16, 17, 18, 19, 20]]\n",
      "duplicate object ----> [[1, 2, 3, 4, 5, 6, 7], [8, 9, 10, 11, 12, 13, 14], [15, 16, 17, 18, 19, 20]]\n",
      "We observed that when we did change in original object that change not happend in duplicate one this phenomenon is called deep copy \n"
     ]
    }
   ],
   "source": [
    "print('original object ---->',original)\n",
    "print('duplicate object ---->',duplicate)\n",
    "print(\"We observed that when we did change in original object that change not happend in duplicate one this phenomenon is called deep copy \")"
   ]
  },
  {
   "cell_type": "markdown",
   "id": "d3a131be",
   "metadata": {},
   "source": [
    "# shallow copy:"
   ]
  },
  {
   "cell_type": "code",
   "execution_count": 37,
   "id": "e388e10e",
   "metadata": {},
   "outputs": [
    {
     "name": "stdout",
     "output_type": "stream",
     "text": [
      "original object ----> [[1, 2, 3, 4, 5, 6, 7], [8, 9, 10, 11, 12, 13, 14], [15, 16, 17, 18, 19, 20]]\n",
      "duplicate object ----> [[1, 2, 3, 4, 5, 6, 7], [8, 9, 10, 11, 12, 13, 14], [15, 16, 17, 18, 19, 20]]\n"
     ]
    }
   ],
   "source": [
    "# suppose we have a list of lists:\n",
    "old_list = [[1,2,3,4,5,6,7],[8,9,10,11,12,13,14],[15,16,17,18,19,20]]\n",
    "# now we create deep copy of it like this:\n",
    "new_list = cp.copy(old_list)\n",
    "print('original object ---->',old_list)\n",
    "print('duplicate object ---->',new_list)"
   ]
  },
  {
   "cell_type": "markdown",
   "id": "93db136b",
   "metadata": {},
   "source": [
    "### if we do any changes in original object let see its variabilty change on duplicate object:"
   ]
  },
  {
   "cell_type": "code",
   "execution_count": 38,
   "id": "f7802a9d",
   "metadata": {},
   "outputs": [
    {
     "data": {
      "text/plain": [
       "[[1, 9, 3, 4, 5, 6, 7], [8, 9, 10, 11, 12, 13, 14], [15, 16, 17, 18, 19, 20]]"
      ]
     },
     "execution_count": 38,
     "metadata": {},
     "output_type": "execute_result"
    }
   ],
   "source": [
    "old_list[0][1]=9\n",
    "old_list"
   ]
  },
  {
   "cell_type": "code",
   "execution_count": 40,
   "id": "2227b019",
   "metadata": {},
   "outputs": [
    {
     "name": "stdout",
     "output_type": "stream",
     "text": [
      "original object ----> [[1, 9, 3, 4, 5, 6, 7], [8, 9, 10, 11, 12, 13, 14], [15, 16, 17, 18, 19, 20]]\n",
      "duplicate object ----> [[1, 9, 3, 4, 5, 6, 7], [8, 9, 10, 11, 12, 13, 14], [15, 16, 17, 18, 19, 20]]\n",
      "We observed that when we did change in original object that change also happend in duplicate one this phenomenon is called shallow copy \n"
     ]
    }
   ],
   "source": [
    "print('original object ---->',old_list)\n",
    "print('duplicate object ---->',new_list)\n",
    "print(\"We observed that when we did change in original object that change also happend in duplicate one this phenomenon is called shallow copy \")"
   ]
  },
  {
   "cell_type": "code",
   "execution_count": null,
   "id": "13d2c5c3",
   "metadata": {},
   "outputs": [],
   "source": []
  }
 ],
 "metadata": {
  "kernelspec": {
   "display_name": "Python 3 (ipykernel)",
   "language": "python",
   "name": "python3"
  },
  "language_info": {
   "codemirror_mode": {
    "name": "ipython",
    "version": 3
   },
   "file_extension": ".py",
   "mimetype": "text/x-python",
   "name": "python",
   "nbconvert_exporter": "python",
   "pygments_lexer": "ipython3",
   "version": "3.9.12"
  }
 },
 "nbformat": 4,
 "nbformat_minor": 5
}
